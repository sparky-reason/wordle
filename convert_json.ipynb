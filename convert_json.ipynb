{
 "cells": [
  {
   "cell_type": "code",
   "execution_count": null,
   "id": "36a5c42a-e65d-4638-9b2a-00907badc3ec",
   "metadata": {},
   "outputs": [],
   "source": [
    "import json"
   ]
  },
  {
   "cell_type": "code",
   "execution_count": null,
   "id": "57be27f9-f5e1-4437-868e-3b5d1ae2cc22",
   "metadata": {},
   "outputs": [],
   "source": [
    "with open('./data/de/targets.json') as json_file:\n",
    "    data = json.load(json_file)"
   ]
  },
  {
   "cell_type": "code",
   "execution_count": null,
   "id": "4299d0ed-0564-4658-bdd6-c1b8a9b6d45c",
   "metadata": {},
   "outputs": [],
   "source": [
    "with open('./data/de/targets.txt', 'w') as txt_file:\n",
    "    for word in data:\n",
    "        txt_file.write(word + '\\n')"
   ]
  }
 ],
 "metadata": {
  "kernelspec": {
   "display_name": "Python 3 (ipykernel)",
   "language": "python",
   "name": "python3"
  },
  "language_info": {
   "codemirror_mode": {
    "name": "ipython",
    "version": 3
   },
   "file_extension": ".py",
   "mimetype": "text/x-python",
   "name": "python",
   "nbconvert_exporter": "python",
   "pygments_lexer": "ipython3",
   "version": "3.10.4"
  }
 },
 "nbformat": 4,
 "nbformat_minor": 5
}
