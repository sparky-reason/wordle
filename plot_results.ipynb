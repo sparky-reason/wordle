{
 "cells": [
  {
   "cell_type": "code",
   "execution_count": null,
   "id": "16abc1b7-83b2-4836-8897-895262860d05",
   "metadata": {},
   "outputs": [],
   "source": [
    "import matplotlib.pyplot as plt\n",
    "import pandas as pd"
   ]
  },
  {
   "cell_type": "code",
   "execution_count": null,
   "id": "d4e5f02b-0649-4c6b-b654-b788a3e5c962",
   "metadata": {},
   "outputs": [],
   "source": [
    "means = {}\n",
    "for i in range(4, 10):\n",
    "    data = pd.read_csv(f'./data/strategy_turns_{i}.csv', delimiter='\\t')\n",
    "    data = data.iloc[:, 1:] + 1\n",
    "    means[i] = data.describe().loc['mean']\n",
    "    \n",
    "    fig, axs = plt.subplots(ncols=len(data.columns), figsize=(20,4))\n",
    "    for ax, col in zip(axs, data.columns):\n",
    "        counts = data[col].value_counts()\n",
    "        ax.bar(range(10), [counts.get(i, default=0) for i in range(10)])\n",
    "        ax.set_title(f'{i} {col}')"
   ]
  },
  {
   "cell_type": "code",
   "execution_count": null,
   "id": "b7b8ac17-17d4-4e47-a730-bf9b69bc3d0a",
   "metadata": {},
   "outputs": [],
   "source": [
    "fig, ax = plt.subplots(figsize=(8,6))\n",
    "df_means = pd.concat(means, axis=1).T\n",
    "for col in df_means.columns:\n",
    "    ax.plot(df_means[col], '.-', label=col)\n",
    "ax.legend()\n",
    "ax.set_title('Mean number of turns needed')\n",
    "ax.set_xlabel('wordle size')\n",
    "ax.set_ylabel('turns')\n",
    "ax.grid()"
   ]
  }
 ],
 "metadata": {
  "kernelspec": {
   "display_name": "Python 3 (ipykernel)",
   "language": "python",
   "name": "python3"
  },
  "language_info": {
   "codemirror_mode": {
    "name": "ipython",
    "version": 3
   },
   "file_extension": ".py",
   "mimetype": "text/x-python",
   "name": "python",
   "nbconvert_exporter": "python",
   "pygments_lexer": "ipython3",
   "version": "3.10.4"
  }
 },
 "nbformat": 4,
 "nbformat_minor": 5
}
